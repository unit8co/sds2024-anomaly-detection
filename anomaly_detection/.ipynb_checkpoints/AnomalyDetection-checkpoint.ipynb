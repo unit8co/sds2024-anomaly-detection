{
 "cells": [
  {
   "cell_type": "markdown",
   "id": "bdd892d1-5661-49bd-82bd-2516ca07b9a4",
   "metadata": {},
   "source": [
    "# Anomaly Detection - project\n",
    "\n",
    "This project aims to demonstrate the Anomaly Detection module implemented in Darts\n",
    "### Dataset\n",
    "The MIT-BIH Supraventricular Arrhythmia Database (SVDB) contains 2 channels, and 78 half-hour ECG recordings obtained from 47 objects between 1975-1979.\n",
    "\n",
    "### Task\n",
    "Develop an anomaly detection model to identity arrhythmia in the ECG signal."
   ]
  },
  {
   "cell_type": "markdown",
   "id": "e0257c20-6539-4765-a8da-f890ac709f2e",
   "metadata": {},
   "source": [
    "## Downloading ECG dataset"
   ]
  },
  {
   "cell_type": "code",
   "execution_count": null,
   "id": "3b24badf-5f4b-402e-9728-a24da2c22842",
   "metadata": {},
   "outputs": [],
   "source": [
    "# Download data from data source to a local holder\n",
    "import io\n",
    "import os\n",
    "import zipfile\n",
    "import requests\n",
    "\n",
    "# URL of the zip file\n",
    "zip_url = \"https://my.hidrive.com/api/sharelink/download?id=lmCmAjUP\"\n",
    "\n",
    "# Folder path to save the downloaded zip file\n",
    "folder_path = \"dataset\"\n",
    "\n",
    "# Create the folder if it doesn't exist\n",
    "if not os.path.exists(folder_path):\n",
    "    os.makedirs(folder_path)\n",
    "\n",
    "# Send a GET request to download the zip file\n",
    "response = requests.get(zip_url)\n",
    "\n",
    "# Check if the request was successful\n",
    "if response.status_code == 200:\n",
    "    # File path to save the downloaded zip file\n",
    "    file_path = os.path.join(folder_path, \"svdb.zip\")\n",
    "\n",
    "    # Save the zip file to the local drive\n",
    "    with open(file_path, \"wb\") as file:\n",
    "        file.write(response.content)\n",
    "    print(\"Zip file downloaded successfully.\")\n",
    "\n",
    "    # Extract the zip file\n",
    "    with zipfile.ZipFile(file_path, 'r') as zip_ref:\n",
    "        zip_ref.extractall(folder_path)\n",
    "    print(\"Zip file extracted successfully.\")\n",
    "else:\n",
    "    print(\"Failed to download the zip file.\")"
   ]
  },
  {
   "cell_type": "markdown",
   "id": "ef7c76cb-d821-4d37-a63a-250680d4541b",
   "metadata": {},
   "source": [
    "## Install required libaries for anomaly detection"
   ]
  },
  {
   "cell_type": "code",
   "execution_count": null,
   "id": "00207f43-b58e-4796-bdd8-8c99aadf485b",
   "metadata": {},
   "outputs": [],
   "source": [
    "# Install the library darts\n",
    "!git clone https://github.com/unit8co/darts.git\n",
    "!pip install darts/. -q"
   ]
  },
  {
   "cell_type": "markdown",
   "id": "51d49b07-9530-4118-80e6-7b53c3614950",
   "metadata": {},
   "source": [
    "## Load ECG data for a patient of interest"
   ]
  },
  {
   "cell_type": "code",
   "execution_count": null,
   "id": "d90be554-88fe-4b7e-856c-8afcbeb8abf1",
   "metadata": {},
   "outputs": [],
   "source": [
    "patient_number = '842'"
   ]
  },
  {
   "cell_type": "code",
   "execution_count": null,
   "id": "3f981579-3229-47fb-b889-654c77bef494",
   "metadata": {},
   "outputs": [],
   "source": [
    "from darts import TimeSeries\n",
    "\n",
    "# Load data into darts TimeSeries object\n",
    "timeseries = TimeSeries.from_csv(f\"./dataset/multivariate/SVDB/{patient_number}.test.csv\", time_col='timestamp')\n",
    "ts_ecg = timeseries[['ECG1','ECG2']]\n",
    "ts_anomaly = timeseries['is_anomaly']"
   ]
  },
  {
   "cell_type": "markdown",
   "id": "2978f8d9-8e7d-49c9-8bd4-aa1653076353",
   "metadata": {},
   "source": [
    "### Visualize signal and anomaly"
   ]
  },
  {
   "cell_type": "code",
   "execution_count": null,
   "id": "60fec587-43fa-43b3-a6ae-0f4cf3bd4a27",
   "metadata": {},
   "outputs": [],
   "source": [
    "import matplotlib.pyplot as plt\n",
    "\n",
    "fig,ax = plt.subplots(1,1, figsize=(15,5))\n",
    "ts_ecg['ECG1'].plot(ax=ax,label='ECG1')\n",
    "(ts_anomaly-2).plot(ax=ax,label='is_anomaly',color='r')\n"
   ]
  },
  {
   "cell_type": "markdown",
   "id": "45b19862-a47d-4cae-8df8-0bfd92d64b80",
   "metadata": {},
   "source": [
    "### Task #1\n",
    "- Identify a region of 15000 datapoints with anomalies (Otherwise training takes for a while) and visualize it"
   ]
  },
  {
   "cell_type": "code",
   "execution_count": null,
   "id": "e9664934-39ef-4517-9ae9-31f5bd8191e2",
   "metadata": {},
   "outputs": [],
   "source": [
    "# Identify a subset for demonstration\n",
    "shift = 15000\n",
    "start = 0\n",
    "end = 15000\n",
    "ts_ecg_subset= ts_ecg[start+shift:end+shift]\n",
    "ts_anomaly_subset = ts_anomaly[start+shift:end+shift]"
   ]
  },
  {
   "cell_type": "code",
   "execution_count": null,
   "id": "e4270cd9-3563-4ca0-891f-d40375c8b201",
   "metadata": {},
   "outputs": [],
   "source": [
    "# Visualize the subset\n",
    "fig,ax = plt.subplots(1,1, figsize=(15,5))\n",
    "ts_ecg_subset['ECG1'].plot(ax=ax,label='ECG1')\n",
    "((ts_anomaly_subset/2)-1.5).plot(ax=ax,label='is_anomaly',color='r')\n",
    "ax.legend(bbox_to_anchor=(1.05, 1), loc='upper center', borderaxespad=0)"
   ]
  },
  {
   "cell_type": "markdown",
   "id": "88205af1-6555-4e75-b60c-4dea23a4778b",
   "metadata": {},
   "source": [
    "### Task #2\n",
    "- Create training and test set size (e.g., 10k/5k, 12k/2k datapoints)"
   ]
  },
  {
   "cell_type": "code",
   "execution_count": null,
   "id": "ff6cdea3-6c0d-499b-ace6-d07d9002545d",
   "metadata": {},
   "outputs": [],
   "source": [
    "# Create train and test dataset for demonstration\n",
    "split = 10000\n",
    "ts_ecg_train = ts_ecg_subset[:split]\n",
    "ts_ecg_test = ts_ecg_subset[split:15000]\n",
    "ts_anomaly_test = ts_anomaly_subset[split:15000]"
   ]
  },
  {
   "cell_type": "code",
   "execution_count": null,
   "id": "9482f567-0a82-4632-bbec-8c175439e051",
   "metadata": {},
   "outputs": [],
   "source": [
    "fig,ax = plt.subplots(1,1, figsize=(15,5))\n",
    "ts_ecg_train['ECG1'].plot(ax=ax,label='train')\n",
    "ts_ecg_test['ECG1'].plot(ax=ax,color='b', label='test')\n",
    "((ts_anomaly_test/2)-1.5).plot(ax=ax,label='is_anomaly',color='r')\n",
    "ax.legend(bbox_to_anchor=(1.05, 1), loc='upper center', borderaxespad=0)"
   ]
  },
  {
   "cell_type": "code",
   "execution_count": null,
   "id": "c8cf3190-89a6-4780-8482-ac6eb7a7a994",
   "metadata": {},
   "outputs": [],
   "source": [
    "### Task #3\n",
    "- Assess data properties such as periodicity and identify most common period."
   ]
  },
  {
   "cell_type": "code",
   "execution_count": null,
   "id": "ea0b3c3e-66b7-4dc9-b36d-2de90c4ff8a0",
   "metadata": {},
   "outputs": [],
   "source": [
    "from darts.utils.statistics import plot_acf\n",
    "\n",
    "# Visualise signal auto correlation to identify most common periodicity\n",
    "plot_acf(ts=ts_ecg_subset['ECG1'], max_lag=220)\n",
    "plt.show()"
   ]
  },
  {
   "cell_type": "code",
   "execution_count": null,
   "id": "22f843f1-eeab-429b-82a4-57b0afe996e5",
   "metadata": {},
   "outputs": [],
   "source": [
    "# Identified most common period\n",
    "period = 90"
   ]
  },
  {
   "cell_type": "markdown",
   "id": "0c3a3760-aa66-43b9-95be-1ca13a4dac96",
   "metadata": {},
   "source": [
    "### Task #4\n",
    "Develop an anomaly detection model by choosing a Darts forecasting model and one or multiple scorers\n",
    "\n",
    "Links:\n",
    "- Forecasting models: https://unit8co.github.io/darts/generated_api/darts.models.forecasting.html\n",
    "- Scorers: https://unit8co.github.io/darts/generated_api/darts.ad.scorers.html?highlight=scorer#"
   ]
  },
  {
   "cell_type": "code",
   "execution_count": null,
   "id": "cf9d557d-0cf4-46a3-806f-6157477b0255",
   "metadata": {},
   "outputs": [],
   "source": [
    "from darts.ad.anomaly_model.forecasting_am import ForecastingAnomalyModel\n",
    "from darts.models import *\n",
    "from darts.ad.scorers import *\n",
    "\n",
    "# Instatiate of a forecasting model - e.g. RegressionModel with a defined lag\n",
    "forecasting_model = LinearRegressionModel(lags=period)\n",
    "\n",
    "# Instantiate the anomaly model with: one forecasting model, and one or more scorers (and corresponding parameters)\n",
    "anomaly_model = ForecastingAnomalyModel(\n",
    "    model=forecasting_model,\n",
    "    scorer=[\n",
    "         NormScorer(ord=1),\n",
    "         # KMeansScorer(k=50, window=2*period, component_wise=False)\n",
    "    ],\n",
    ")\n",
    "\n",
    "# Fit anomaly model\n",
    "START = 2 * period\n",
    "anomaly_model.fit(ts_ecg_train, start=START, allow_model_training=True)"
   ]
  },
  {
   "cell_type": "markdown",
   "id": "701c66a0-09e0-4fbd-9682-af98ba36d271",
   "metadata": {},
   "source": [
    "### Task #5\n",
    "Assess the performance of the trained forecasting model on the test set."
   ]
  },
  {
   "cell_type": "code",
   "execution_count": null,
   "id": "58294714-d6e3-49b5-bece-9ab2d9f25247",
   "metadata": {},
   "outputs": [],
   "source": [
    "from darts.metrics import mae, rmse\n",
    "# Score with the anomaly model (forecasting + scoring)\n",
    "anomaly_scores, model_forecasting = anomaly_model.score(\n",
    "    ts_ecg_test, start=2*period, return_model_prediction=True\n",
    ")\n",
    "\n",
    "# Compute the MAE and RMSE on the test set\n",
    "print(f\"On testing set -> MAE: {mae(model_forecasting, ts_ecg_test)}, RMSE: {rmse(model_forecasting, ts_ecg_test)}\")"
   ]
  },
  {
   "cell_type": "markdown",
   "id": "45b98e17-adef-4fff-9f6e-602e3b7a8c76",
   "metadata": {},
   "source": [
    "### Task #6\n",
    "Visualize the forecasted signal as well as the anomalies"
   ]
  },
  {
   "cell_type": "code",
   "execution_count": null,
   "id": "c3f51a48-343f-4ca9-a386-bf30f1b74974",
   "metadata": {},
   "outputs": [],
   "source": [
    "# Forecasting\n",
    "fig, ax = plt.subplots(1,1)\n",
    "window = 10000\n",
    "ts_ecg_test['ECG1'][2*period:2*period+window].plot(ax=ax,color='k',linewidth=1,label='test')\n",
    "model_forecasting['ECG1'][:window].shift(-10).plot(ax=ax,color='b',linewidth=1,label='prediction')"
   ]
  },
  {
   "cell_type": "code",
   "execution_count": null,
   "id": "bc85384e-8e7b-4571-8437-601d1db1f6b4",
   "metadata": {},
   "outputs": [],
   "source": [
    "# Anomalies\n",
    "anomaly_scores[0].plot() # indeces corresponding to the scorers"
   ]
  },
  {
   "cell_type": "markdown",
   "id": "fb2c90a6-1340-4802-9185-fd168ca76889",
   "metadata": {},
   "source": [
    "### Task #7\n",
    "Leverage the inbuilt darts visualization to evaluate and show anomalies"
   ]
  },
  {
   "cell_type": "code",
   "execution_count": null,
   "id": "9c9a0f46-5ac4-44c6-8288-84440f3f387f",
   "metadata": {},
   "outputs": [],
   "source": [
    "# Visualize and evalute detection of anomalies\n",
    "anomaly_model.show_anomalies(\n",
    "    series=ts_ecg_test,\n",
    "    anomalies=ts_anomaly_test,\n",
    "    start=START,\n",
    "    metric=\"AUC_ROC\",\n",
    ")\n",
    "#plt.show()"
   ]
  },
  {
   "cell_type": "markdown",
   "id": "da20c142-3112-4958-9e97-c0c7c90900b1",
   "metadata": {},
   "source": [
    "### Task #8\n",
    "Assess one or multiple Detectors:\n",
    "\n",
    "Link:\n",
    "- https://unit8co.github.io/darts/generated_api/darts.ad.detectors.html?highlight=detector"
   ]
  },
  {
   "cell_type": "code",
   "execution_count": null,
   "id": "a500a0dd-1a78-484d-91ab-e899320df8cb",
   "metadata": {},
   "outputs": [],
   "source": [
    "from darts.ad.detectors import QuantileDetector\n",
    "\n",
    "# Instantiate a detector\n",
    "detector =  QuantileDetector(0,0.70)\n",
    "\n",
    "fig, ax = plt.subplots(1,1)\n",
    "(detector.fit_detect(anomaly_scores[0])-0).plot(ax=ax, color='b',linewidth=1,label='NormScorer - detected_anomaly')\n",
    "(detector.fit_detect(anomaly_scores[1])-2).plot(ax=ax, color='k',linewidth=1,label='KMeanScorer - detected_anomaly')\n",
    "(ts_anomaly_test-4).plot(ax=ax, color='r',linewidth=1,label='is_anomaly')\n",
    "ax.legend(bbox_to_anchor=(1.05, 1), loc='upper left', borderaxespad=0)"
   ]
  },
  {
   "cell_type": "markdown",
   "id": "5b601643-2ca0-4127-8df1-b81f9ef30aba",
   "metadata": {},
   "source": [
    "### Task #9\n",
    "Develop a anomaly detection model using only a scorer:\n",
    "\n",
    "```\n",
    "scorer = KMeansScorer(k=k, window=2*period, component_wise=False)\n",
    "scorer.fit(<series>)\n",
    "scorer.show_anomalies(<series, [actual_anomalies, metric]>)\n",
    "scorer.eval_accuracy(<actual_anomalies, series, [metric]>)\n",
    "```"
   ]
  },
  {
   "cell_type": "code",
   "execution_count": null,
   "id": "fa868e31-670b-4a6c-b187-7d567816729c",
   "metadata": {},
   "outputs": [],
   "source": [
    "import numpy as np\n",
    "\n",
    "for k in [70, 80, 90]:\n",
    "  scorers[k] = {}\n",
    "  for period in [140,150,160]:\n",
    "    print(f\"{k}-{period}\")\n",
    "    scorer = KMeansScorer(k=k, window=2*period, component_wise=False)\n",
    "    scorer.fit(ts_ecg_train)\n",
    "    scorers[k][period] = scorer.eval_accuracy(\n",
    "                                        anomalies=ts_anomaly_test,\n",
    "                                        series=ts_ecg_test,\n",
    "                                        metric=\"AUC_ROC\",\n",
    "                                      )\n"
   ]
  },
  {
   "cell_type": "code",
   "execution_count": null,
   "id": "95e128a9-e0f9-4c69-b629-b7c36a1bff4e",
   "metadata": {},
   "outputs": [],
   "source": [
    "scorer.show_anomalies(\n",
    "  actual_anomalies=ts_anomaly_test,\n",
    "  series=ts_ecg_test,\n",
    "  metric=\"AUC_ROC\",\n",
    ")"
   ]
  }
 ],
 "metadata": {
  "kernelspec": {
   "display_name": "Python 3 (ipykernel)",
   "language": "python",
   "name": "python3"
  },
  "language_info": {
   "codemirror_mode": {
    "name": "ipython",
    "version": 3
   },
   "file_extension": ".py",
   "mimetype": "text/x-python",
   "name": "python",
   "nbconvert_exporter": "python",
   "pygments_lexer": "ipython3",
   "version": "3.9.12"
  }
 },
 "nbformat": 4,
 "nbformat_minor": 5
}
