{
 "cells": [
  {
   "cell_type": "markdown",
   "id": "bdd892d1-5661-49bd-82bd-2516ca07b9a4",
   "metadata": {},
   "source": [
    "# ECG Arrhythmia detection\n",
    "\n",
    "This project aims to demonstrate the Anomaly Detection module implemented in Darts\n",
    "### Dataset\n",
    "The MIT-BIH Supraventricular Arrhythmia Database (SVDB) contains 2 channels, and 78 half-hour ECG recordings obtained from 47 objects between 1975-1979.\n",
    "\n",
    "### Task\n",
    "Develop an anomaly detection model to identity arrhythmia in the ECG signal."
   ]
  },
  {
   "cell_type": "markdown",
   "id": "e0257c20-6539-4765-a8da-f890ac709f2e",
   "metadata": {},
   "source": [
    "## Downloading ECG dataset"
   ]
  },
  {
   "cell_type": "code",
   "execution_count": 1,
   "id": "3b24badf-5f4b-402e-9728-a24da2c22842",
   "metadata": {},
   "outputs": [
    {
     "name": "stdout",
     "output_type": "stream",
     "text": [
      "Zip file already downloaded.\n",
      "Zip file extracted successfully.\n"
     ]
    }
   ],
   "source": [
    "# Download data from data source to a local holder\n",
    "import io\n",
    "import os\n",
    "import zipfile\n",
    "import requests\n",
    "\n",
    "# URL of the zip file\n",
    "zip_url = \"https://my.hidrive.com/api/sharelink/download?id=lmCmAjUP\"\n",
    "\n",
    "# Folder path to save the downloaded zip file\n",
    "folder_path = \"data\"\n",
    "\n",
    "# Create the folder if it doesn't exist\n",
    "if not os.path.exists(folder_path):\n",
    "    os.makedirs(folder_path)\n",
    "\n",
    "file_path = os.path.join(folder_path, \"svdb.zip\")\n",
    "if not os.path.exists(file_path):\n",
    "    # Send a GET request to download the zip file\n",
    "    response = requests.get(zip_url)\n",
    "    \n",
    "    # Check if the request was successful\n",
    "    if response.status_code == 200:\n",
    "        # Save the zip file to the local drive\n",
    "        with open(file_path, \"wb\") as file:\n",
    "            file.write(response.content)\n",
    "        print(\"Zip file downloaded successfully.\")\n",
    "else:\n",
    "    print(\"Zip file already downloaded.\")    \n",
    "\n",
    "# Extract the zip file\n",
    "with zipfile.ZipFile(file_path, 'r') as zip_ref:\n",
    "    zip_ref.extractall(folder_path)\n",
    "print(\"Zip file extracted successfully.\")"
   ]
  },
  {
   "cell_type": "markdown",
   "id": "ef7c76cb-d821-4d37-a63a-250680d4541b",
   "metadata": {},
   "source": [
    "## Install required libaries for anomaly detection"
   ]
  },
  {
   "cell_type": "code",
   "execution_count": 2,
   "id": "00207f43-b58e-4796-bdd8-8c99aadf485b",
   "metadata": {},
   "outputs": [
    {
     "name": "stdout",
     "output_type": "stream",
     "text": [
      "Cloning into 'darts'...\n",
      "remote: Enumerating objects: 23033, done.\u001b[K\n",
      "remote: Counting objects: 100% (4689/4689), done.\u001b[K\n",
      "remote: Compressing objects: 100% (1314/1314), done.\u001b[K\n",
      "^Cceiving objects:  20% (4607/23033), 72.10 MiB | 15.88 MiB/s\n",
      "fetch-pack: unexpected disconnect while reading sideband packet\n",
      "\u001b[31mERROR: Invalid requirement: 'darts/.'\n",
      "Hint: It looks like a path. File 'darts/.' does not exist.\u001b[0m\u001b[31m\n",
      "\u001b[0m"
     ]
    }
   ],
   "source": [
    "# Install the library darts\n",
    "!pip install \"darts @ \"\n",
    "!git clone https://github.com/unit8co/darts.git\n",
    "!pip install darts/. -q"
   ]
  },
  {
   "cell_type": "markdown",
   "id": "51d49b07-9530-4118-80e6-7b53c3614950",
   "metadata": {},
   "source": [
    "## Task #1\n",
    "### Load data of a patient into a darts timeseries object"
   ]
  },
  {
   "cell_type": "code",
   "execution_count": 3,
   "id": "d90be554-88fe-4b7e-856c-8afcbeb8abf1",
   "metadata": {},
   "outputs": [],
   "source": [
    "patient_number = '842'"
   ]
  },
  {
   "cell_type": "code",
   "execution_count": 4,
   "id": "3f981579-3229-47fb-b889-654c77bef494",
   "metadata": {},
   "outputs": [
    {
     "name": "stderr",
     "output_type": "stream",
     "text": [
      "\n",
      "KeyboardInterrupt\n",
      "\n"
     ]
    }
   ],
   "source": [
    "from darts import TimeSeries\n",
    "\n",
    "# Load data into darts TimeSeries object\n",
    "timeseries = TimeSeries.from_csv(f\"./{folder_path}/multivariate/SVDB/{patient_number}.test.csv\", time_col='timestamp')\n",
    "ts_ecg = timeseries[['ECG1','ECG2']]\n",
    "ts_anomaly = timeseries['is_anomaly']"
   ]
  },
  {
   "cell_type": "markdown",
   "id": "2978f8d9-8e7d-49c9-8bd4-aa1653076353",
   "metadata": {},
   "source": [
    "### Visualize signal and anomaly"
   ]
  },
  {
   "cell_type": "code",
   "execution_count": null,
   "id": "60fec587-43fa-43b3-a6ae-0f4cf3bd4a27",
   "metadata": {},
   "outputs": [],
   "source": [
    "import matplotlib.pyplot as plt\n",
    "\n",
    "fig,ax = plt.subplots(1,1, figsize=(10,5))\n",
    "ts_ecg['ECG1'].plot(ax=ax,label='ECG1', lw=0.5)\n",
    "(ts_anomaly-2).plot(ax=ax,label='is_anomaly',color='r', lw=0.5)"
   ]
  },
  {
   "cell_type": "markdown",
   "id": "45b19862-a47d-4cae-8df8-0bfd92d64b80",
   "metadata": {},
   "source": [
    "## Task #2\n",
    "### Identify a region of ~15000 datapoints with anomalies (Otherwise training takes for a while) and visualize it"
   ]
  },
  {
   "cell_type": "code",
   "execution_count": null,
   "id": "e9664934-39ef-4517-9ae9-31f5bd8191e2",
   "metadata": {},
   "outputs": [],
   "source": [
    "# Identify a subset for demonstration\n",
    "start, end = 15000, 30000\n",
    "ts_ecg_subset= ts_ecg[start:end]\n",
    "ts_anomaly_subset = ts_anomaly[start:end]"
   ]
  },
  {
   "cell_type": "code",
   "execution_count": null,
   "id": "e4270cd9-3563-4ca0-891f-d40375c8b201",
   "metadata": {},
   "outputs": [],
   "source": [
    "# Visualize the subset\n",
    "fig,ax = plt.subplots(figsize=(10, 5))\n",
    "ts_ecg_subset['ECG1'].plot(label='ECG1', lw=1.)\n",
    "((ts_anomaly_subset/2)-1.5).plot(label='is_anomaly', color='r')"
   ]
  },
  {
   "cell_type": "markdown",
   "id": "88205af1-6555-4e75-b60c-4dea23a4778b",
   "metadata": {},
   "source": [
    "## Task #3\n",
    "### Create training and test set size (e.g., 10k/5k, 12k/2k datapoints)"
   ]
  },
  {
   "cell_type": "code",
   "execution_count": null,
   "id": "ff6cdea3-6c0d-499b-ace6-d07d9002545d",
   "metadata": {},
   "outputs": [],
   "source": [
    "# Create train and test dataset for demonstration\n",
    "train_end, test_end = 10000, 15000 \n",
    "ts_ecg_train = ts_ecg_subset[:train_end]\n",
    "ts_ecg_test = ts_ecg_subset[train_end:test_end]\n",
    "ts_anomaly_test = ts_anomaly_subset[train_end:test_end]"
   ]
  },
  {
   "cell_type": "code",
   "execution_count": null,
   "id": "9482f567-0a82-4632-bbec-8c175439e051",
   "metadata": {},
   "outputs": [],
   "source": [
    "# Visualize the train / test set as well as the test set anomalies\n",
    "fig,ax = plt.subplots(figsize=(10, 5))\n",
    "ts_ecg_train['ECG1'].plot(label='train', lw=1.)\n",
    "ts_ecg_test['ECG1'].plot(label='test', lw=1.)\n",
    "((ts_anomaly_test/2)-1.5).plot(label='is_anomaly', color='r')"
   ]
  },
  {
   "cell_type": "markdown",
   "id": "a3f0da52-003d-49b3-bd08-d2528fe3fc19",
   "metadata": {},
   "source": [
    "## Task #4\n",
    "### Assess data properties such as periodicity and identify most common period."
   ]
  },
  {
   "cell_type": "code",
   "execution_count": null,
   "id": "ea0b3c3e-66b7-4dc9-b36d-2de90c4ff8a0",
   "metadata": {},
   "outputs": [],
   "source": [
    "from darts.utils.statistics import plot_acf, check_seasonality\n",
    "\n",
    "# Visualise signal auto correlation to identify most common periodicity\n",
    "plot_acf(ts=ts_ecg_subset['ECG1'], max_lag=220, m=92)"
   ]
  },
  {
   "cell_type": "code",
   "execution_count": null,
   "id": "22f843f1-eeab-429b-82a4-57b0afe996e5",
   "metadata": {},
   "outputs": [],
   "source": [
    "# Identified most common period\n",
    "period = 92"
   ]
  },
  {
   "cell_type": "markdown",
   "id": "0c3a3760-aa66-43b9-95be-1ca13a4dac96",
   "metadata": {},
   "source": [
    "## Task #5\n",
    "### Develop an anomaly detection model step by step by (see figure below):\n",
    "1. Creating a forecasting model based on the train timeseries ECG data\n",
    "2. Create historical forecasting for the test timeseries ECG data\n",
    "3. Create anomaly scores using 2 different scores based on the forecasted and actual ECG signal\n",
    "\n",
    "<img src=\"images/ad_inside_anomaly_model.png\" alt=\"Image\" width=\"60%\" height=\"60%\">\n",
    "\n",
    "Links:\n",
    "- Forecasting models: https://unit8co.github.io/darts/generated_api/darts.models.forecasting.html\n",
    "- Scorers: https://unit8co.github.io/darts/generated_api/darts.ad.scorers.html?highlight=scorer#"
   ]
  },
  {
   "cell_type": "markdown",
   "id": "5932fdb4-f567-4d23-883a-78a1a2ab0cb8",
   "metadata": {},
   "source": [
    "#### Create a Forecasting model"
   ]
  },
  {
   "cell_type": "code",
   "execution_count": null,
   "id": "cf9d557d-0cf4-46a3-806f-6157477b0255",
   "metadata": {},
   "outputs": [],
   "source": [
    "from darts.models import LinearRegressionModel\n",
    "\n",
    "# Instatiate of a forecasting model - e.g. RegressionModel with a defined lag\n",
    "forecasting_model = LinearRegressionModel(lags=period)\n",
    "\n",
    "# Train the forecasting model on the training dataset\n",
    "forecasting_model.fit(ts_ecg_train)"
   ]
  },
  {
   "cell_type": "code",
   "execution_count": null,
   "id": "4f262a52-f0c6-42d0-9e88-7540e9da9a6f",
   "metadata": {},
   "outputs": [],
   "source": [
    "# Visualization of predicted and actual signal\n",
    "fig, (ax1, ax2) = plt.subplots(nrows=2, figsize=(10,10))\n",
    "\n",
    "# historical predictions\n",
    "ts_ecg_test_predicted = forecasting_model.historical_forecasts(ts_ecg_test, retrain=False)\n",
    "# residuals of these predictions = (y_true - y_pred)\n",
    "ts_ecg_residuals = forecasting_model.residuals(ts_ecg_test, historical_forecasts=ts_ecg_test_predicted)\n",
    "\n",
    "ts_ecg_test_predicted['ECG1'].plot(ax=ax1, label='ECG1_predicted')\n",
    "ts_ecg_test['ECG1'].plot(ax=ax1, color='r', label='ECG1_test')\n",
    "ts_ecg_residuals['ECG1'].plot(ax=ax2, color='b', label='Difference')"
   ]
  },
  {
   "cell_type": "markdown",
   "id": "4b410090-28be-4718-a81c-78e2263f4db6",
   "metadata": {},
   "source": [
    "#### Use a NormScorer for scoring"
   ]
  },
  {
   "cell_type": "code",
   "execution_count": null,
   "id": "87b4f794-0ea3-4f3c-b067-75333c1db361",
   "metadata": {},
   "outputs": [],
   "source": [
    "from darts.ad.scorers import NormScorer\n",
    "scorer = NormScorer(ord=1, component_wise=False)"
   ]
  },
  {
   "cell_type": "code",
   "execution_count": null,
   "id": "be8f2160-27a5-46d7-9373-ac0289159aed",
   "metadata": {},
   "outputs": [],
   "source": [
    "# Calculate anomaly scores by taking the pointwise norm 1 (L1) and visualize the score\n",
    "scores =  scorer.score_from_prediction(series=ts_ecg_test, pred_series=ts_ecg_test_predicted)\n",
    "scores.plot(label='Anomaly Score')"
   ]
  },
  {
   "cell_type": "code",
   "execution_count": null,
   "id": "4bdfed06-91bc-4de3-9911-63408896b086",
   "metadata": {},
   "outputs": [],
   "source": [
    "# Evaluate the calculated anomaly score using utility methods in darts\n",
    "from darts.ad.utils import eval_metric_from_scores\n",
    "eval_metric_from_scores(\n",
    "    pred_scores=scores, \n",
    "    anomalies=ts_anomaly_test, \n",
    "    window=1, \n",
    "    metric='AUC_ROC'\n",
    ")"
   ]
  },
  {
   "cell_type": "markdown",
   "id": "c2f90349-b922-4cf4-b468-1c309a218317",
   "metadata": {},
   "source": [
    "#### Use fittable KMeansScorer for scoring\n",
    "Norm scorer point wise calculates the norm between the predicted and actual timeseries. Since predicting th peak of the ECG signals are challenging for the model - the biggest differences can between the actual and predicted values are mostly found at the peak locations.\n",
    "\n",
    "To overcome this issue stemming from the point wise comparison, a windowing approach inherent in the KMeanScorer will be used.\n",
    "The KMeanScorer is a trainable scorer - meaning -  on the anomaly free dataset it fits 'k' centroids on the vectors/chunks of the ECG signal created by using a sliding window with width of 'w'. The scoring is done by determining the closest centroid distance to any future ECG window with the same size 'w'. Since the training was done on anomaly free windows, those windows which are containing anomalies will have larger distances even from the closest centroid.\n",
    "\n",
    "The KMeanScorer as the figure illustrates below can directly used on the timeseries itself, however we will use the previously developed forecasting model to create historical prediction for the train dataset and do the training of the KMeanScorer on the absoule difference of the actual training and forecasted training dataset.\n",
    "\n",
    "#### Training & Scoring\n",
    "<img src=\"images/kmeansscorer.png\" alt=\"Image\" width=\"70%\" height=\"70%\">\n",
    "\n",
    "<img src=\"images/ad_windowing.png\" alt=\"Image\" width=\"70%\" height=\"70%\">"
   ]
  },
  {
   "cell_type": "code",
   "execution_count": null,
   "id": "45d03c19-be0a-4741-ab31-bb255702d612",
   "metadata": {},
   "outputs": [],
   "source": [
    "from darts.ad.scorers import KMeansScorer\n",
    "scorer = KMeansScorer(k=50, window=2*period, component_wise=False, random_state=42)"
   ]
  },
  {
   "cell_type": "code",
   "execution_count": null,
   "id": "d51d038c-bce6-4886-a26f-e66bf89dd8e8",
   "metadata": {},
   "outputs": [],
   "source": [
    "# Create historical forecasting on the trianing dataset for the scorer to be able to train\n",
    "ts_ecg_train_predicted = forecasting_model.historical_forecasts(ts_ecg_train, retrain=False)"
   ]
  },
  {
   "cell_type": "code",
   "execution_count": null,
   "id": "83f4f0b7-fc01-4753-a5f4-a6d5180af0db",
   "metadata": {},
   "outputs": [],
   "source": [
    "scorer.fit_from_prediction(series=ts_ecg_train, pred_series=ts_ecg_train_predicted) "
   ]
  },
  {
   "cell_type": "markdown",
   "id": "d6f6606e-7645-47fc-a9b0-60f9eafc3fe9",
   "metadata": {},
   "source": [
    "#### Remark\n",
    "\n",
    "The function `diff_fn` passed as a parameter to the scorer, will transform pred_series and actual_series into one series. `diff_fn` can be any of Darts [\"per time step\" metrics](https://unit8co.github.io/darts/generated_api/darts.metrics.html). By default, it compute the absolute difference (`darts.metrics.ae`). If `pred_series` and `actual_series` are lists of series, `diff_fn` will be applied to all pairwise elements of the sequences.\n"
   ]
  },
  {
   "cell_type": "code",
   "execution_count": null,
   "id": "e2eadfad-df67-4a86-a2e9-cbc34ef206df",
   "metadata": {},
   "outputs": [],
   "source": [
    "# Use the trained scorer on the forecasted and actual test dataset\n",
    "scores = scorer.score_from_prediction(series=ts_ecg_test, pred_series=ts_ecg_test_predicted)\n",
    "scores.plot(label='Anomaly Score')"
   ]
  },
  {
   "cell_type": "code",
   "execution_count": null,
   "id": "ee0d6e9e-4d46-4694-b514-098b560b635c",
   "metadata": {},
   "outputs": [],
   "source": [
    "# Calculate the performance on the scorer using built-in utils methods in darts\n",
    "eval_metric_from_scores(\n",
    "    pred_scores=scores,\n",
    "    anomalies=ts_anomaly_test,\n",
    "    window=2*period,\n",
    "    metric='AUC_ROC'\n",
    ")"
   ]
  },
  {
   "cell_type": "markdown",
   "id": "b5c643e9-9cf8-4a8c-8c5d-30b0829b59da",
   "metadata": {},
   "source": [
    "## Task #6\n",
    "### Develop the anomaly detection models by using the Forecasting Anomaly Model via dedicated Darts API interface\n",
    "This exercise aims to illustrate the power of the darts anomaly detection module by hiding all of the previously made steps under the hood into one dedicated AnomalyModel and corresponding APIs"
   ]
  },
  {
   "cell_type": "code",
   "execution_count": null,
   "id": "bbea3471-6fe7-4ba7-a10f-08b0649de5b0",
   "metadata": {},
   "outputs": [],
   "source": [
    "#### Train an"
   ]
  },
  {
   "cell_type": "code",
   "execution_count": null,
   "id": "e23939c1-8328-4332-9848-e1f70ec3218b",
   "metadata": {},
   "outputs": [],
   "source": [
    "from darts.ad.anomaly_model.forecasting_am import ForecastingAnomalyModel\n",
    "from darts.ad.scorers import NormScorer, KMeansScorer\n",
    "\n",
    "# Instantiate the anomaly model with: one forecasting model, and one or more scorers (and corresponding parameters)\n",
    "anomaly_model = ForecastingAnomalyModel(\n",
    "    model=forecasting_model,\n",
    "    scorer=[\n",
    "         NormScorer(ord=1),\n",
    "         KMeansScorer(k=50, window=2*period, component_wise=False, random_state=42)\n",
    "    ],\n",
    ")\n",
    "\n",
    "# Fit anomaly model\n",
    "anomaly_model.fit(ts_ecg_train, allow_model_training=False)"
   ]
  },
  {
   "cell_type": "markdown",
   "id": "701c66a0-09e0-4fbd-9682-af98ba36d271",
   "metadata": {},
   "source": [
    "#### Create anomaly scores and prediction in one step\n"
   ]
  },
  {
   "cell_type": "code",
   "execution_count": null,
   "id": "58294714-d6e3-49b5-bece-9ab2d9f25247",
   "metadata": {},
   "outputs": [],
   "source": [
    "# Score with the anomaly model (forecasting + scoring)\n",
    "anomaly_scores, predictions = anomaly_model.score(\n",
    "    series=ts_ecg_test, return_model_prediction=True\n",
    ")"
   ]
  },
  {
   "cell_type": "markdown",
   "id": "45b98e17-adef-4fff-9f6e-602e3b7a8c76",
   "metadata": {},
   "source": [
    "### Visualize the forecasted signal as well as the anomalies"
   ]
  },
  {
   "cell_type": "code",
   "execution_count": null,
   "id": "c3f51a48-343f-4ca9-a386-bf30f1b74974",
   "metadata": {},
   "outputs": [],
   "source": [
    "# Forecasting\n",
    "ts_ecg_test['ECG1'].plot(label='test', lw=1.)\n",
    "predictions['ECG1'].plot(label='prediction', lw=1.)"
   ]
  },
  {
   "cell_type": "code",
   "execution_count": null,
   "id": "bc85384e-8e7b-4571-8437-601d1db1f6b4",
   "metadata": {},
   "outputs": [],
   "source": [
    "# Anomalies\n",
    "fig, (ax1, ax2) = plt.subplots(ncols=2, figsize=(10, 5))\n",
    "anomaly_scores[0].plot(ax=ax1, label=\"NormScorer\") # indeces corresponding to the scorers\n",
    "anomaly_scores[1].plot(ax=ax2, label=\"KMeansScorer\") # indeces corresponding to the scorers"
   ]
  },
  {
   "cell_type": "markdown",
   "id": "fb2c90a6-1340-4802-9185-fd168ca76889",
   "metadata": {},
   "source": [
    "### Leverage the inbuilt darts visualization tool to evaluate and show anomalies"
   ]
  },
  {
   "cell_type": "code",
   "execution_count": null,
   "id": "9c9a0f46-5ac4-44c6-8288-84440f3f387f",
   "metadata": {},
   "outputs": [],
   "source": [
    "# Visualize and evalute detection of anomalies\n",
    "anomaly_model.show_anomalies(\n",
    "    series=ts_ecg_test,\n",
    "    anomalies=ts_anomaly_test,\n",
    "    metric=\"AUC_ROC\",\n",
    ")\n",
    "#plt.show()"
   ]
  },
  {
   "cell_type": "markdown",
   "id": "da20c142-3112-4958-9e97-c0c7c90900b1",
   "metadata": {},
   "source": [
    "## Task #7\n",
    "Use a detector to binarize the anomaly scores\n",
    "\n",
    "Link:\n",
    "- https://unit8co.github.io/darts/generated_api/darts.ad.detectors.html?highlight=detector"
   ]
  },
  {
   "cell_type": "code",
   "execution_count": null,
   "id": "a500a0dd-1a78-484d-91ab-e899320df8cb",
   "metadata": {},
   "outputs": [],
   "source": [
    "from darts.ad.detectors import QuantileDetector, ThresholdDetector\n",
    "\n",
    "# Instantiate a detector\n",
    "detector =  QuantileDetector(low_quantile=0, high_quantile=0.70)\n",
    "\n",
    "fig, ax = plt.subplots()\n",
    "(detector.fit_detect(anomaly_scores[0])-0).plot(lw=1., label='NormScorer - detected_anomaly')\n",
    "(detector.fit_detect(anomaly_scores[1])-2).plot(lw=1., label='KMeanScorer - detected_anomaly')\n",
    "(ts_anomaly_test-4).plot(color='r', lw=1, label='is_anomaly')\n",
    "ax.legend(bbox_to_anchor=(1.05, 1), loc='upper left')"
   ]
  },
  {
   "cell_type": "code",
   "execution_count": null,
   "id": "aed9b9cb-ed55-4c04-b464-e232dfba6566",
   "metadata": {},
   "outputs": [],
   "source": [
    "# Instantiate a detector\n",
    "detector =  ThresholdDetector(low_threshold=0, high_threshold=0.7)\n",
    "\n",
    "fig, ax = plt.subplots()\n",
    "(detector.detect(anomaly_scores[0])-0).plot(lw=1, label='NormScorer - detected_anomaly')\n",
    "(detector.detect(anomaly_scores[1])-2).plot(lw=1, label='KMeanScorer - detected_anomaly')\n",
    "(ts_anomaly_test-4).plot(color='r', lw=1, label='is_anomaly')\n",
    "ax.legend(bbox_to_anchor=(1.05, 1), loc='upper left')"
   ]
  }
 ],
 "metadata": {
  "kernelspec": {
   "display_name": "Python 3 (ipykernel)",
   "language": "python",
   "name": "python3"
  },
  "language_info": {
   "codemirror_mode": {
    "name": "ipython",
    "version": 3
   },
   "file_extension": ".py",
   "mimetype": "text/x-python",
   "name": "python",
   "nbconvert_exporter": "python",
   "pygments_lexer": "ipython3",
   "version": "3.10.13"
  },
  "widgets": {
   "application/vnd.jupyter.widget-state+json": {
    "state": {},
    "version_major": 2,
    "version_minor": 0
   }
  }
 },
 "nbformat": 4,
 "nbformat_minor": 5
}
