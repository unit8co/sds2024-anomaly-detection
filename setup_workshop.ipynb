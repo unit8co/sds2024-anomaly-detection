{
 "cells": [
  {
   "cell_type": "code",
   "execution_count": null,
   "id": "38452e99-7ae0-42e8-93cc-06abcde54e0f",
   "metadata": {},
   "outputs": [],
   "source": [
    "# Download data from data source to a local holder\n",
    "import io\n",
    "import os\n",
    "import zipfile\n",
    "import requests\n",
    "\n",
    "# URL of the zip file\n",
    "zip_url = \"https://my.hidrive.com/api/sharelink/download?id=lmCmAjUP\"\n",
    "\n",
    "# Folder path to save the downloaded zip file\n",
    "folder_path = os.path.join(\"anomaly_detection\", \"data\")\n",
    "\n",
    "# Create the folder if it doesn't exist\n",
    "if not os.path.exists(folder_path):\n",
    "    os.makedirs(folder_path)\n",
    "\n",
    "file_path = os.path.join(folder_path, \"svdb.zip\")\n",
    "if not os.path.exists(file_path):\n",
    "    # Send a GET request to download the zip file\n",
    "    response = requests.get(zip_url)\n",
    "    \n",
    "    # Check if the request was successful\n",
    "    if response.status_code == 200:\n",
    "        # Save the zip file to the local drive\n",
    "        with open(file_path, \"wb\") as file:\n",
    "            file.write(response.content)\n",
    "        print(\"Zip file downloaded successfully.\")\n",
    "else:\n",
    "    print(\"Zip file already downloaded.\")    \n",
    "\n",
    "# Extract the zip file\n",
    "with zipfile.ZipFile(file_path, 'r') as zip_ref:\n",
    "    zip_ref.extractall(folder_path)\n",
    "print(\"Zip file extracted successfully.\")"
   ]
  }
 ],
 "metadata": {
  "kernelspec": {
   "display_name": "Python 3 (ipykernel)",
   "language": "python",
   "name": "python3"
  },
  "language_info": {
   "codemirror_mode": {
    "name": "ipython",
    "version": 3
   },
   "file_extension": ".py",
   "mimetype": "text/x-python",
   "name": "python",
   "nbconvert_exporter": "python",
   "pygments_lexer": "ipython3",
   "version": "3.10.13"
  },
  "widgets": {
   "application/vnd.jupyter.widget-state+json": {
    "state": {},
    "version_major": 2,
    "version_minor": 0
   }
  }
 },
 "nbformat": 4,
 "nbformat_minor": 5
}
